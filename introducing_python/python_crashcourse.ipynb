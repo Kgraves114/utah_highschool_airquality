{
 "cells": [
  {
   "cell_type": "markdown",
   "metadata": {},
   "source": [
    "# Python Crash course \n",
    "\n",
    "In this notebook we will quickly go over Python at a high level. We will then go on to explore topics in more detail.\n",
    "\n",
    "We will be creating computer programs to read, manipulate, visualize, analyze, and save air quality, atmospheric, and health data using functions that are defined in Python. Before we start with functions, however, we need to briefly touch on what data are, from the perspective of a Python program and that is rooted in the concept that in Python everything is an object.\n",
    "\n",
    "## \"*everything in Python is an object*\" ([*Dive Into Python*](http://www.diveintopython.net/getting_to_know_python/everything_is_an_object.html))\n",
    "\n",
    "Python programs are build from **objects**. Everything in Python is an object. \n",
    "\n",
    "#### An object has\n",
    "\n",
    "1. Attributes: Attributes are data (e.g. height, weight, color (Think adjectives))\n",
    "1. Methods: Methods are functions that operate on the attributes (data) of the object (Think verbs)\n",
    "\n",
    "The most important compoenents of the programs we will be writing are **data objects** and **function objects.** Using a biology analogy data objects are like the blood circulating through our bodies and function objects are like our organs that take blood in and return modified blood and some biological behavior.\n",
    "\n",
    "We will briefly look at functions and then data. \n",
    "\n",
    "## What is a Function?\n",
    "\n",
    "* \"any of a group of related actions contributing to a larger action; especially : the normal and specific contribution of a bodily part to the economy of a living organism\" \n",
    "* \"a computer subroutine; specifically : one that performs a calculation with variables provided by a program and supplies the program with a single result\"([Merriam-Webster Dictionary](http://www2.merriam-webster.com/cgi-bin/mwdictadu?book=Dictionary&va=functionless))\n",
    "\n",
    "To get a handle on what a function is in Python, let's look at some example functions from \"high school\" mathematics\n",
    "\n",
    "\\begin{eqnarray}\n",
    "y = \\sqrt{x},\\\\\n",
    "y = mx+b.\n",
    "\\end{eqnarray}\n",
    "\n",
    "In each of these examples, we take a value $x$ and returns a new value that we are assigning to the variable $y$. \n",
    "\n",
    "1. Take $x$ as input and return the square root of $x$ as output. \n",
    "1. Take $x$ as input and return $x$ multipled by $m$ plus $b$. We can generalize this pattern with the following \"definition\":\n",
    "\n",
    "#### A \"definition\" of functions: A function is something that takes some kind of input and provides some sort of output"
   ]
  },
  {
   "cell_type": "markdown",
   "metadata": {},
   "source": [
    "### Exercise 1\n",
    "\n",
    "Thinking this way, how would you describe each of the following as a function (what goes in and what comes out)?\n",
    "\n",
    "1. Lungs\n",
    "1. Radio"
   ]
  },
  {
   "cell_type": "markdown",
   "metadata": {},
   "source": [
    "## Functions in Python\n",
    "\n",
    "In Python a function takes zero or more **arguments** (objects) and returns some object.\n",
    "\n",
    "### [``print``](https://docs.python.org/3/library/functions.html#print)\n",
    "\n",
    "The first Python function we'll look at is ``print``. ``print`` takes as input a string and returns as output that string \"printed\" to the screen. If we don't provide a string, ``print`` prints an empty string (which is nothing) to the screen."
   ]
  },
  {
   "cell_type": "code",
   "execution_count": null,
   "metadata": {
    "collapsed": false
   },
   "outputs": [],
   "source": [
    "print(\"Hello, world\")\n",
    "print()\n",
    "print(5+4)"
   ]
  },
  {
   "cell_type": "code",
   "execution_count": null,
   "metadata": {
    "collapsed": false
   },
   "outputs": [],
   "source": [
    "print(\"thing 1\")\n",
    "print(\"thing 1\", \"thing 2\")\n",
    "print(\"thing 1\", \"thing 2\", \"thing 3\")"
   ]
  },
  {
   "cell_type": "markdown",
   "metadata": {},
   "source": [
    "## Data in Python programs\n",
    "\n",
    ">All is number.\n",
    ">\n",
    ">~Pythagoras\n",
    "\n",
    "Python has multiple data types, but the most important kinds that we will be dealing with are \n",
    "\n",
    "1. Numeric\n",
    "    * Integers (type ``int``). Integers are created by typing an integer (e.g. 1, 532, -4). (There is also an ``int`` function for converting (or trying to) an object to an integer.)\n",
    "    * Floating point numbers (type ``float``). Floating point numbers correspond to the real ($\\mathbb{R}$) numbers and can be created by typing a decimal number (e.g. 4., 3.5, 5.4e3), by doing division (e.g. 3/4), or from the ``float`` function.\n",
    "    \n",
    "1. Strings (for representing text) (type ``str``). Strings are a sequence of characters and are defined by typing the characgters between single quotes (e.g. 'abc'), double quotes (\"def\"), or either triple single or triple double qutoes ('''ghi''',\"\"\"klm\"\"\").\n",
    "\n",
    "Data will be either a ``literal`` or a variable. Consider the following Python statements\n",
    "\n",
    "```Python\n",
    "5+4\n",
    "a=5\n",
    "a+4```\n"
   ]
  },
  {
   "cell_type": "markdown",
   "metadata": {},
   "source": [
    "### Example: String objects\n",
    "\n",
    "In the cell below I'm going to create a string object named ``name``. Because it is an object it has attributes and methods.\n",
    "\n",
    "#### What is an attribute you think ``name`` might have?"
   ]
  },
  {
   "cell_type": "code",
   "execution_count": null,
   "metadata": {
    "collapsed": true
   },
   "outputs": [],
   "source": [
    "name = \"george washington\""
   ]
  },
  {
   "cell_type": "code",
   "execution_count": null,
   "metadata": {
    "collapsed": false
   },
   "outputs": [],
   "source": []
  },
  {
   "cell_type": "markdown",
   "metadata": {},
   "source": [
    "``name`` also has **methods** functions that do things to the string. One such method is  ``capitalize``."
   ]
  },
  {
   "cell_type": "code",
   "execution_count": null,
   "metadata": {
    "collapsed": false
   },
   "outputs": [],
   "source": [
    "name.capitalize()"
   ]
  },
  {
   "cell_type": "markdown",
   "metadata": {},
   "source": [
    "#### You can discover the attributes and methods of name using ``help()``, ``dir()``, or *tab completion*"
   ]
  },
  {
   "cell_type": "code",
   "execution_count": null,
   "metadata": {
    "collapsed": true
   },
   "outputs": [],
   "source": []
  },
  {
   "cell_type": "markdown",
   "metadata": {
    "collapsed": false
   },
   "source": [
    "## What are programs?\n",
    "\n",
    "### Programs are like functions: \n",
    "\n",
    "1. They take something as input from somewhere or something\n",
    "1. Manipulate what was input\n",
    "    1. This manipulation usually makes use of **conditional execution**\n",
    "    1. and **repition**\n",
    "2. Returns something new somwhere\n",
    "\n",
    "#### Describe Google Docs as a Program\n",
    "\n",
    "1. What goes in?\n",
    "1. What manipulation occurs?\n",
    "1. What comes out?\n",
    "\n",
    "#### This Jupyter notebook is a program\n",
    "\n",
    "1. It takes Markdown text as input and renders HTML as output\n",
    "1. It takes Python code as input and renders the relevant output, also as HTML.\n",
    "\n",
    "# Programs in Science\n",
    "\n",
    "Computer programs are essential to modern science. They do everything from control the instruments we use (e.g. microscopes or telescopes), store the data we've collected, and help us analyze and understand the data we've collected.\n",
    "\n",
    "We're going to use Python to write a very simple program to help us understand the relationship between weather and air quality. In later classes, we'll write programs to acquire sensor measurements from a remote computer using an application program interface (API) and explore the relationship between air quality, elevation, and wind."
   ]
  },
  {
   "cell_type": "markdown",
   "metadata": {},
   "source": [
    "## Data Manipulation in Python\n",
    "\n",
    "Given some data, whether text or numbers at this point, we can modify the value of those data or create new data from them. Here are some basic examples"
   ]
  },
  {
   "cell_type": "code",
   "execution_count": null,
   "metadata": {
    "collapsed": false
   },
   "outputs": [],
   "source": [
    "a_num = 5\n",
    "a_num_also = 4.5\n",
    "\n",
    "rslt = a_num + a_num_also\n",
    "print(rslt)\n",
    "a_num = 4 # assign a new value to a_num\n",
    "print((a_num-rslt)/3)\n",
    "\n",
    "x = int(\"54\")\n",
    "print(x)"
   ]
  },
  {
   "cell_type": "code",
   "execution_count": null,
   "metadata": {
    "collapsed": false
   },
   "outputs": [],
   "source": [
    "first_name = \"Brian\"\n",
    "last_name = \"Chapman\"\n",
    "name = first_name+last_name\n",
    "print(name)\n",
    "print(first_name[2])\n"
   ]
  },
  {
   "cell_type": "markdown",
   "metadata": {},
   "source": [
    "### Exercise\n",
    "\n",
    "1. Can you explain what is happening with ``first_name[2]``? Why is the result '``i``' not '``r``'?"
   ]
  },
  {
   "cell_type": "code",
   "execution_count": null,
   "metadata": {
    "collapsed": false
   },
   "outputs": [],
   "source": []
  },
  {
   "cell_type": "markdown",
   "metadata": {},
   "source": [
    "## Conditional Execution\n",
    "\n",
    "Conditional execution involves asking true or false questions about our data and doing different things depending on the answer. These questions are in the form of \n",
    "```Python\n",
    "if SOME_TRUE_OR_FALSE_QUESTION: # IF THE ANSWER IS TRUE THEN WE EXECUTE THE INDENTED CODE BLOCK\n",
    "    DO SOMETHING HERE\n",
    "elif SOME_OTHER_TRUE_OR_FALSE_QUESTION: # elif stands for \"else if\"\n",
    "    DO SOMETHING DIFFERENT HERE\n",
    "else:\n",
    "    DO SOME DEFAULT EXECUTION HERE IF ALL THE OTHER QUESTIONS WERE ANSWERED FALSE\n",
    "```\n",
    "\n",
    "We can have multiple ``elif`` statements and we don't have to have an ``else`` statement.\n",
    "\n",
    "#### [Before continuing work through this notebook on True and False](./true_false.ipynb)\n",
    "\n",
    "## Code Blocks\n",
    "\n",
    "Our if/elif/else example above is an example of **code blocks.** Python uses **colons (:)** and **indentation** to indicate **code blocks**: code that goes together. Code blocks will show up in many places including if/else blocks, loops, and functions.\n",
    "\n"
   ]
  },
  {
   "cell_type": "code",
   "execution_count": null,
   "metadata": {
    "collapsed": false
   },
   "outputs": [],
   "source": [
    "bmi = 27.3\n",
    "\n",
    "if bmi < 18.5:\n",
    "    print(\"underweight\")\n",
    "elif 18.5 <= bmi < 25:\n",
    "    print(\"normal\")\n",
    "elif 25 <= bmi < 30:\n",
    "    print(\"overweight\")\n",
    "elif 30 <= bmi < 35:\n",
    "    print(\"obesity\")\n",
    "else:\n",
    "    print(\"extreme obesity\")"
   ]
  },
  {
   "cell_type": "markdown",
   "metadata": {},
   "source": [
    "### How Much to Indent?\n",
    "* Python doesn't care how much you indent as long as you are consistent\n",
    "    * For that block\n",
    "    * **Different blocks can have different indentation**\n",
    "* Indenting too little will not give much visual advantage\n",
    "* Indenting too much will not give you much space to work on a line\n",
    "* Standard indention is 4 spaces\n",
    "    "
   ]
  },
  {
   "cell_type": "markdown",
   "metadata": {},
   "source": [
    "### Exercise\n",
    "\n",
    "1. Write an if/else code block to test if a number if non-negative"
   ]
  },
  {
   "cell_type": "code",
   "execution_count": null,
   "metadata": {
    "collapsed": true
   },
   "outputs": [],
   "source": []
  },
  {
   "cell_type": "markdown",
   "metadata": {},
   "source": [
    "## Repetition in Python\n",
    "\n",
    "There are three basic ways to repeatedly do something in Python\n",
    "\n",
    "1. [``while`` loops](https://docs.python.org/3/reference/compound_stmts.html#while)\n",
    "1. [``for`` loops](https://docs.python.org/3/tutorial/controlflow.html#for-statements)\n",
    "1. [recursion](http://openbookproject.net/thinkcs/python/english3e/recursion.html) We will not explore recursion here.\n",
    "\n",
    "With ``while`` loops we do something as long as a condition is true"
   ]
  },
  {
   "cell_type": "code",
   "execution_count": null,
   "metadata": {
    "collapsed": false
   },
   "outputs": [],
   "source": [
    "x = 0\n",
    "while x < 5:\n",
    "    x = x + 1 # could also write x += 1\n",
    "    print(x)"
   ]
  },
  {
   "cell_type": "markdown",
   "metadata": {},
   "source": [
    "With ``for`` loops we loop (iterate) over elements of a [sequence](https://docs.python.org/3.5/library/stdtypes.html#sequence-types-list-tuple-range), in this case a **list** of integers. \n",
    "\n",
    "**for** loops will be our primary mechanism for iterating over data."
   ]
  },
  {
   "cell_type": "code",
   "execution_count": null,
   "metadata": {
    "collapsed": false
   },
   "outputs": [],
   "source": [
    "for elem in [1, 2, 3, 4, 5]:\n",
    "    print(elem)"
   ]
  },
  {
   "cell_type": "markdown",
   "metadata": {
    "collapsed": true
   },
   "source": [
    "## Next Notebook: [Working with Airquality data](./working_with_air_quality_data.ipynb)"
   ]
  },
  {
   "cell_type": "markdown",
   "metadata": {},
   "source": [
    "<a rel=\"license\" href=\"http://creativecommons.org/licenses/by-nc-sa/4.0/\"><img alt=\"Creative Commons License\" style=\"border-width:0\" src=\"https://i.creativecommons.org/l/by-nc-sa/4.0/88x31.png\" /></a><br /><span xmlns:dct=\"http://purl.org/dc/terms/\" property=\"dct:title\">University of Uah Data Science for Health</span> by <span xmlns:cc=\"http://creativecommons.org/ns#\" property=\"cc:attributionName\">Brian E. Chapman</span> is licensed under a <a rel=\"license\" href=\"http://creativecommons.org/licenses/by-nc-sa/4.0/\">Creative Commons Attribution-NonCommercial-ShareAlike 4.0 International License</a>.|"
   ]
  },
  {
   "cell_type": "code",
   "execution_count": null,
   "metadata": {
    "collapsed": true
   },
   "outputs": [],
   "source": []
  }
 ],
 "metadata": {
  "kernelspec": {
   "display_name": "Python 3",
   "language": "python",
   "name": "python3"
  },
  "language_info": {
   "codemirror_mode": {
    "name": "ipython",
    "version": 3
   },
   "file_extension": ".py",
   "mimetype": "text/x-python",
   "name": "python",
   "nbconvert_exporter": "python",
   "pygments_lexer": "ipython3",
   "version": "3.5.2"
  }
 },
 "nbformat": 4,
 "nbformat_minor": 0
}
