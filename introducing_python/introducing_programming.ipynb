{
 "cells": [
  {
   "cell_type": "markdown",
   "metadata": {},
   "source": [
    "# Introduction to Programming with Python\n",
    "\n",
    "\n",
    "## What is a Computer?\n",
    "<img src=HarvardComputers.jpg width=500 />\n",
    "\n",
    "\n",
    "> 1  A person who makes calculations or computations; a calculator, a reckoner; spec. a person employed to make calculations in an observatory, in surveying, etc. Now chiefly hist....\n",
    "\n",
    "> 2  A device or machine for performing or facilitating calculation.\n",
    "\n",
    "> 3  An electronic device (or system of devices) which is used to store, manipulate, and communicate information, perform complex calculations, or control or regulate other devices or machines, and is capable of receiving information (data) and of processing it in accordance with variable procedural instructions (programs or software); esp. a small, self-contained one for individual use in the home or workplace, used esp. for handling text, images, music, and video, accessing and using the Internet, communicating with other people (e.g. by means of email), and playing games. [OED](http://www.oed.com/view/Entry/37975?redirectedFrom=computer#eid)\n",
    "\n",
    "## What Constitutes a Computer?\n",
    "\n",
    "### Hardware\n",
    "<img src=https://www.raspberrypi.org/app/uploads/2015/01/Pi2ModB1GB_-comp.jpeg width=500 />\n",
    "\n",
    "### Software\n",
    "* Operating System\n",
    "* Applications\n",
    "    * Applications are created with **programming languages**\n",
    "\n",
    "\n",
    "\n",
    "\n",
    "### What Defines a language?\n",
    "\n",
    "*  Semantics are the meaning of the various symbols used in the language\n",
    "    *  (e.g. \"+\", \"def\", \"while\", \"list\")\n",
    "*  Syntax are the rules used to connect the various symbols\n",
    "    *  (e.g. \"a=5\" is syntactically correct in Python but \"5=a\" is not).\n",
    "\n",
    "\n",
    "## What is a Program?\n",
    "\n",
    "* A program is a sequential list of instructions.\n",
    "   * \"Do THIS to THAT\"\n",
    "#### Example Program: Tell me how to make a peanut butter and jam sandwich\n",
    "* Just like sentences in our everyday language, computer programs have nouns and verbs\n",
    "\n",
    "## What is a programming language?\n",
    "\n",
    "You and speak to each other in English. Computers don't understand English. Each computer has its own language known as **machine language**.  For humans to write a computer program in machine language is tedious, so people have invented **higher language** programming languages along with programs that *translate (interpret)* that high level program to machine language. \n",
    "\n",
    "The high level programming language we are going to use is [Python](www.python.org), which despite using a snake as its symbol is named after  [Monty Python](), the British comedy troupe.\n",
    "\n",
    "# [Next: Introducing Python](./python_crashcourse.ipynb)"
   ]
  },
  {
   "cell_type": "markdown",
   "metadata": {
    "collapsed": true
   },
   "source": [
    "<a rel=\"license\" href=\"http://creativecommons.org/licenses/by-nc-sa/4.0/\"><img alt=\"Creative Commons License\" style=\"border-width:0\" src=\"https://i.creativecommons.org/l/by-nc-sa/4.0/88x31.png\" /></a><br /><span xmlns:dct=\"http://purl.org/dc/terms/\" property=\"dct:title\">University of Uah Data Science for Health</span> by <span xmlns:cc=\"http://creativecommons.org/ns#\" property=\"cc:attributionName\">Brian E. Chapman</span> is licensed under a <a rel=\"license\" href=\"http://creativecommons.org/licenses/by-nc-sa/4.0/\">Creative Commons Attribution-NonCommercial-ShareAlike 4.0 International License</a>.|"
   ]
  },
  {
   "cell_type": "code",
   "execution_count": null,
   "metadata": {
    "collapsed": true
   },
   "outputs": [],
   "source": []
  }
 ],
 "metadata": {
  "kernelspec": {
   "display_name": "Python 3",
   "language": "python",
   "name": "python3"
  },
  "language_info": {
   "codemirror_mode": {
    "name": "ipython",
    "version": 3
   },
   "file_extension": ".py",
   "mimetype": "text/x-python",
   "name": "python",
   "nbconvert_exporter": "python",
   "pygments_lexer": "ipython3",
   "version": "3.5.2"
  }
 },
 "nbformat": 4,
 "nbformat_minor": 0
}
